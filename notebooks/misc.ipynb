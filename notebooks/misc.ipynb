{
 "cells": [
  {
   "cell_type": "code",
   "execution_count": null,
   "metadata": {
    "collapsed": true
   },
   "outputs": [],
   "source": [
    "LAYUP_THRESHOLD = 50 # yards\n",
    "\n",
    "def risk_reward(group):\n",
    "    q = group.query('shot_no == 2')\n",
    "    s2 = q.iloc[0].to_dict() if len(q) else {}\n",
    "    results = {'went_for_it': None, 'score_norm': None}\n",
    "    \n",
    "    if s2:    \n",
    "        results['went_for_it'] = s2['post_yd'] < LAYUP_THRESHOLD\n",
    "        results['score_norm'] = s2['score_norm']\n",
    "    \n",
    "    return pd.Series(results)\n",
    "    \n",
    "g = par5.groupby(['round_date', 'round_no', 'hole_no'])\n",
    "\n",
    "risk_reward = g.apply(risk_reward)\n",
    "risk_reward.head(20)"
   ]
  }
 ],
 "metadata": {
  "kernelspec": {
   "display_name": "Python 3",
   "language": "python",
   "name": "python3"
  },
  "language_info": {
   "codemirror_mode": {
    "name": "ipython",
    "version": 3
   },
   "file_extension": ".py",
   "mimetype": "text/x-python",
   "name": "python",
   "nbconvert_exporter": "python",
   "pygments_lexer": "ipython3",
   "version": "3.6.0"
  }
 },
 "nbformat": 4,
 "nbformat_minor": 2
}
