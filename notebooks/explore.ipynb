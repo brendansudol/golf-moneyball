{
 "cells": [
  {
   "cell_type": "code",
   "execution_count": 1,
   "metadata": {
    "collapsed": true,
    "deletable": true,
    "editable": true
   },
   "outputs": [],
   "source": [
    "import pandas as pd"
   ]
  },
  {
   "cell_type": "code",
   "execution_count": 6,
   "metadata": {
    "collapsed": false
   },
   "outputs": [],
   "source": [
    "df_dh = pd.read_csv('../data/horsey.csv')\n",
    "df_rc = pd.read_csv('../data/rc.csv')"
   ]
  },
  {
   "cell_type": "code",
   "execution_count": 7,
   "metadata": {
    "collapsed": false
   },
   "outputs": [
    {
     "name": "stdout",
     "output_type": "stream",
     "text": [
      "round_date                                   2016-11-18\n",
      "round_no                                              2\n",
      "hole_no                                              13\n",
      "shot_no                                               1\n",
      "putt                                                NaN\n",
      "completed                                          True\n",
      "left_to_pin_before                                 7560\n",
      "left_to_pin_after                                   360\n",
      "penalty                                             NaN\n",
      "player_name                                David Horsey\n",
      "name                  DP World Tour Championship, Dubai\n",
      "course_id                                            48\n",
      "start_tee                                             1\n",
      "score                                                 3\n",
      "par                                                   3\n",
      "yards                                               204\n",
      "lie_after                                         Green\n",
      "lie_before                                          Tee\n",
      "club                                               iron\n",
      "direction                                        center\n",
      "Name: 0, dtype: object\n"
     ]
    }
   ],
   "source": [
    "print(df_dh.iloc[0])"
   ]
  },
  {
   "cell_type": "code",
   "execution_count": 8,
   "metadata": {
    "collapsed": false
   },
   "outputs": [
    {
     "name": "stdout",
     "output_type": "stream",
     "text": [
      "left_to_pin_before                         144\n",
      "penalty                                  False\n",
      "hole_no                                     14\n",
      "shot_no                                      3\n",
      "completed                                 True\n",
      "putt                                      True\n",
      "left_to_pin_after                            1\n",
      "par                                          4\n",
      "yards                                      448\n",
      "mp_name               Friday Foursomes Match 4\n",
      "usa_player1                        Matt Kuchar\n",
      "usa_player2                     Dustin Johnson\n",
      "eur_player1                       Lee Westwood\n",
      "eur_player2                     Thomas Pieters\n",
      "mp_start_time              2016-09-30 13:20:00\n",
      "player_shot_name                   Matt Kuchar\n",
      "shot_team                                  USA\n",
      "lie_after                                 Hole\n",
      "lie_before                               Green\n",
      "Name: 0, dtype: object\n"
     ]
    }
   ],
   "source": [
    "print(df_rc.iloc[0])"
   ]
  },
  {
   "cell_type": "code",
   "execution_count": 9,
   "metadata": {
    "collapsed": false,
    "deletable": true,
    "editable": true
   },
   "outputs": [
    {
     "data": {
      "text/html": [
       "<div>\n",
       "<table border=\"1\" class=\"dataframe\">\n",
       "  <thead>\n",
       "    <tr style=\"text-align: right;\">\n",
       "      <th></th>\n",
       "      <th>round_date</th>\n",
       "      <th>round_no</th>\n",
       "      <th>hole_no</th>\n",
       "      <th>shot_no</th>\n",
       "      <th>putt</th>\n",
       "      <th>completed</th>\n",
       "      <th>left_to_pin_before</th>\n",
       "      <th>left_to_pin_after</th>\n",
       "      <th>penalty</th>\n",
       "      <th>player_name</th>\n",
       "      <th>name</th>\n",
       "      <th>course_id</th>\n",
       "      <th>start_tee</th>\n",
       "      <th>score</th>\n",
       "      <th>par</th>\n",
       "      <th>yards</th>\n",
       "      <th>lie_after</th>\n",
       "      <th>lie_before</th>\n",
       "      <th>club</th>\n",
       "      <th>direction</th>\n",
       "    </tr>\n",
       "  </thead>\n",
       "  <tbody>\n",
       "    <tr>\n",
       "      <th>0</th>\n",
       "      <td>2016-11-18</td>\n",
       "      <td>2</td>\n",
       "      <td>13</td>\n",
       "      <td>1</td>\n",
       "      <td>NaN</td>\n",
       "      <td>True</td>\n",
       "      <td>7560</td>\n",
       "      <td>360.0</td>\n",
       "      <td>NaN</td>\n",
       "      <td>David Horsey</td>\n",
       "      <td>DP World Tour Championship, Dubai</td>\n",
       "      <td>48</td>\n",
       "      <td>1</td>\n",
       "      <td>3</td>\n",
       "      <td>3</td>\n",
       "      <td>204</td>\n",
       "      <td>Green</td>\n",
       "      <td>Tee</td>\n",
       "      <td>iron</td>\n",
       "      <td>center</td>\n",
       "    </tr>\n",
       "    <tr>\n",
       "      <th>1</th>\n",
       "      <td>2016-11-18</td>\n",
       "      <td>2</td>\n",
       "      <td>13</td>\n",
       "      <td>2</td>\n",
       "      <td>True</td>\n",
       "      <td>True</td>\n",
       "      <td>360</td>\n",
       "      <td>12.0</td>\n",
       "      <td>NaN</td>\n",
       "      <td>David Horsey</td>\n",
       "      <td>DP World Tour Championship, Dubai</td>\n",
       "      <td>48</td>\n",
       "      <td>1</td>\n",
       "      <td>3</td>\n",
       "      <td>3</td>\n",
       "      <td>204</td>\n",
       "      <td>Green</td>\n",
       "      <td>Green</td>\n",
       "      <td>putter</td>\n",
       "      <td>short</td>\n",
       "    </tr>\n",
       "    <tr>\n",
       "      <th>2</th>\n",
       "      <td>2016-11-18</td>\n",
       "      <td>2</td>\n",
       "      <td>13</td>\n",
       "      <td>3</td>\n",
       "      <td>True</td>\n",
       "      <td>True</td>\n",
       "      <td>12</td>\n",
       "      <td>1.0</td>\n",
       "      <td>NaN</td>\n",
       "      <td>David Horsey</td>\n",
       "      <td>DP World Tour Championship, Dubai</td>\n",
       "      <td>48</td>\n",
       "      <td>1</td>\n",
       "      <td>3</td>\n",
       "      <td>3</td>\n",
       "      <td>204</td>\n",
       "      <td>Hole</td>\n",
       "      <td>Green</td>\n",
       "      <td>putter</td>\n",
       "      <td>center</td>\n",
       "    </tr>\n",
       "    <tr>\n",
       "      <th>3</th>\n",
       "      <td>2016-11-18</td>\n",
       "      <td>2</td>\n",
       "      <td>18</td>\n",
       "      <td>1</td>\n",
       "      <td>NaN</td>\n",
       "      <td>True</td>\n",
       "      <td>19440</td>\n",
       "      <td>9324.0</td>\n",
       "      <td>NaN</td>\n",
       "      <td>David Horsey</td>\n",
       "      <td>DP World Tour Championship, Dubai</td>\n",
       "      <td>48</td>\n",
       "      <td>1</td>\n",
       "      <td>4</td>\n",
       "      <td>5</td>\n",
       "      <td>620</td>\n",
       "      <td>Fairway</td>\n",
       "      <td>Tee</td>\n",
       "      <td>driver</td>\n",
       "      <td>center</td>\n",
       "    </tr>\n",
       "    <tr>\n",
       "      <th>4</th>\n",
       "      <td>2016-11-18</td>\n",
       "      <td>2</td>\n",
       "      <td>18</td>\n",
       "      <td>2</td>\n",
       "      <td>NaN</td>\n",
       "      <td>True</td>\n",
       "      <td>9324</td>\n",
       "      <td>2520.0</td>\n",
       "      <td>NaN</td>\n",
       "      <td>David Horsey</td>\n",
       "      <td>DP World Tour Championship, Dubai</td>\n",
       "      <td>48</td>\n",
       "      <td>1</td>\n",
       "      <td>4</td>\n",
       "      <td>5</td>\n",
       "      <td>620</td>\n",
       "      <td>Fairway</td>\n",
       "      <td>Fairway</td>\n",
       "      <td>iron</td>\n",
       "      <td>center</td>\n",
       "    </tr>\n",
       "  </tbody>\n",
       "</table>\n",
       "</div>"
      ],
      "text/plain": [
       "   round_date  round_no  hole_no  shot_no  putt completed  left_to_pin_before  \\\n",
       "0  2016-11-18         2       13        1   NaN      True                7560   \n",
       "1  2016-11-18         2       13        2  True      True                 360   \n",
       "2  2016-11-18         2       13        3  True      True                  12   \n",
       "3  2016-11-18         2       18        1   NaN      True               19440   \n",
       "4  2016-11-18         2       18        2   NaN      True                9324   \n",
       "\n",
       "   left_to_pin_after penalty   player_name                               name  \\\n",
       "0              360.0     NaN  David Horsey  DP World Tour Championship, Dubai   \n",
       "1               12.0     NaN  David Horsey  DP World Tour Championship, Dubai   \n",
       "2                1.0     NaN  David Horsey  DP World Tour Championship, Dubai   \n",
       "3             9324.0     NaN  David Horsey  DP World Tour Championship, Dubai   \n",
       "4             2520.0     NaN  David Horsey  DP World Tour Championship, Dubai   \n",
       "\n",
       "   course_id  start_tee  score  par  yards lie_after lie_before    club  \\\n",
       "0         48          1      3    3    204     Green        Tee    iron   \n",
       "1         48          1      3    3    204     Green      Green  putter   \n",
       "2         48          1      3    3    204      Hole      Green  putter   \n",
       "3         48          1      4    5    620   Fairway        Tee  driver   \n",
       "4         48          1      4    5    620   Fairway    Fairway    iron   \n",
       "\n",
       "  direction  \n",
       "0    center  \n",
       "1     short  \n",
       "2    center  \n",
       "3    center  \n",
       "4    center  "
      ]
     },
     "execution_count": 9,
     "metadata": {},
     "output_type": "execute_result"
    }
   ],
   "source": [
    "df_dh.head()"
   ]
  }
 ],
 "metadata": {
  "kernelspec": {
   "display_name": "Python 3",
   "language": "python",
   "name": "python3"
  },
  "language_info": {
   "codemirror_mode": {
    "name": "ipython",
    "version": 3
   },
   "file_extension": ".py",
   "mimetype": "text/x-python",
   "name": "python",
   "nbconvert_exporter": "python",
   "pygments_lexer": "ipython3",
   "version": "3.6.0"
  }
 },
 "nbformat": 4,
 "nbformat_minor": 1
}
